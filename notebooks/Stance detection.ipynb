{
 "cells": [
  {
   "cell_type": "markdown",
   "metadata": {
    "pycharm": {
     "name": "#%% md\n"
    }
   },
   "source": [
    "# Data Processing"
   ]
  },
  {
   "cell_type": "code",
   "execution_count": 9,
   "metadata": {
    "pycharm": {
     "name": "#%%\n"
    }
   },
   "outputs": [],
   "source": [
    "import pandas as pd\n",
    "import numpy as np\n",
    "import matplotlib as mpl\n",
    "import matplotlib.pyplot as plt\n",
    "import os\n",
    "\n",
    "from bs4 import BeautifulSoup\n",
    "\n",
    "def parse_data_to_df(file):\n",
    "\n",
    "    xml_data = open(file, 'r').read()  # Read file\n",
    "    soup = BeautifulSoup(xml_data ,'xml')\n",
    "\n",
    "    combinend_tgsordpkt = []\n",
    "    combinend_speaker = []\n",
    "    combinend_party = []\n",
    "    combinend_speech = []\n",
    "\n",
    "    # get the date of the Plenarsitzung \n",
    "    date = [soup.find(\"datum\").attrs[\"date\"]]\n",
    "\n",
    "    tagesordnungspunkt = soup.find_all('tagesordnungspunkt')\n",
    "    for punkt in tagesordnungspunkt:\n",
    "\n",
    "        # ignore tagesordnungspunkt if there is no redner\n",
    "        check_for_redner = len(punkt.find_all(\"rede\")) != 0\n",
    "        if check_for_redner:\n",
    "\n",
    "            tgsordpkt_all_text = [] #list to store the text from the speeches joined as one string per speaker\n",
    "            tgsordpkt_all_speaker = [] #list to store the text from the speeches joined as one string per speaker\n",
    "            tgsordpkt_thema = []\n",
    "            tgsordpkt_speaker_party = []\n",
    "            \n",
    "            thema = punkt.find('p', {\"klasse\": \"T_fett\"})\n",
    "            if thema is None:\n",
    "                continue\n",
    "            thema_txt = thema.get_text()\n",
    "            tgsordpkt_thema.append(thema_txt)\n",
    "            reden = punkt.find_all('rede')\n",
    "            for rede in reden:\n",
    "                # extract the text from the speeches\n",
    "                plain_text = []\n",
    "                text = rede.find_all('p')\n",
    "                ignore_tags = [\"redner\"]\n",
    "                for txt in text:\n",
    "                    #print(txt.attrs)\n",
    "                    if txt.has_attr('klasse'):\n",
    "                        if txt[\"klasse\"] in ignore_tags:\n",
    "                            continue\n",
    "                    plain_text.append(txt.get_text())\n",
    "                joined_text = ' '.join(plain_text)\n",
    "                tgsordpkt_all_text.append(joined_text)\n",
    "\n",
    "                # extract the speaker \"redner\" of the speech\n",
    "                redner = rede.find('p', {\"klasse\": \"redner\"})\n",
    "                store_redner_info = []\n",
    "                for re in redner:\n",
    "                    store_redner_info.append(re.get_text())\n",
    "\n",
    "                get_speaker = store_redner_info[-1]\n",
    "                tgsordpkt_all_speaker.append(get_speaker)\n",
    "\n",
    "                #extract party from redner\n",
    "                if \"(\" in get_speaker: \n",
    "                    count = 0\n",
    "                    while True:\n",
    "                        count = count+1\n",
    "                        character = get_speaker[-count]\n",
    "                        if character == \"(\":\n",
    "                            tgsordpkt_speaker_party.append(get_speaker[-count:])\n",
    "                            break       \n",
    "                else:\n",
    "                    tgsordpkt_speaker_party.append('N/A')\n",
    "\n",
    "            if len(tgsordpkt_thema) < len(tgsordpkt_all_speaker):\n",
    "                while len(tgsordpkt_thema) < len(tgsordpkt_all_speaker):\n",
    "                    tgsordpkt_thema.append(tgsordpkt_thema[0])\n",
    "\n",
    "            combinend_tgsordpkt.append(tgsordpkt_thema)\n",
    "            combinend_speaker.append(tgsordpkt_all_speaker)\n",
    "            combinend_speech.append(tgsordpkt_all_text)\n",
    "            combinend_party.append(tgsordpkt_speaker_party)\n",
    "\n",
    "    combinend_tgsordpkt = [item for sublist in combinend_tgsordpkt for item in sublist]\n",
    "    combinend_speaker = [item for sublist in combinend_speaker for item in sublist]\n",
    "    combinend_speech = [item for sublist in combinend_speech for item in sublist]\n",
    "    combinend_party = [item for sublist in combinend_party for item in sublist]\n",
    "\n",
    "    if len(date) < len(combinend_tgsordpkt):\n",
    "        while len(date) < len(combinend_tgsordpkt):\n",
    "            date.append(date[0])\n",
    "    \n",
    "    test_for_content = combinend_tgsordpkt + combinend_speaker + combinend_speech + combinend_party    \n",
    "    if len(test_for_content) != 0:\n",
    "        # dictionary of lists \n",
    "        dict = {\n",
    "            'date': date ,\n",
    "            'thema': combinend_tgsordpkt, \n",
    "            'speaker': combinend_speaker, \n",
    "            'party': combinend_party,\n",
    "            'speech': combinend_speech\n",
    "        } \n",
    "\n",
    "        df = pd.DataFrame(dict)\n",
    "        return df"
   ]
  },
  {
   "cell_type": "code",
   "execution_count": 10,
   "metadata": {
    "pycharm": {
     "name": "#%%\n"
    }
   },
   "outputs": [
    {
     "data": {
      "text/html": [
       "<div>\n",
       "<style scoped>\n",
       "    .dataframe tbody tr th:only-of-type {\n",
       "        vertical-align: middle;\n",
       "    }\n",
       "\n",
       "    .dataframe tbody tr th {\n",
       "        vertical-align: top;\n",
       "    }\n",
       "\n",
       "    .dataframe thead th {\n",
       "        text-align: right;\n",
       "    }\n",
       "</style>\n",
       "<table border=\"1\" class=\"dataframe\">\n",
       "  <thead>\n",
       "    <tr style=\"text-align: right;\">\n",
       "      <th></th>\n",
       "      <th>date</th>\n",
       "      <th>thema</th>\n",
       "      <th>speaker</th>\n",
       "      <th>party</th>\n",
       "      <th>speech</th>\n",
       "    </tr>\n",
       "  </thead>\n",
       "  <tbody>\n",
       "    <tr>\n",
       "      <th>0</th>\n",
       "      <td>29.06.2018</td>\n",
       "      <td>Finanzhilfen zugunsten Griechenlands:</td>\n",
       "      <td>Olaf Scholz, Bundesminister der Finanzen:</td>\n",
       "      <td>N/A</td>\n",
       "      <td>Herr Präsident! Meine Damen und Herren! Griech...</td>\n",
       "    </tr>\n",
       "    <tr>\n",
       "      <th>1</th>\n",
       "      <td>29.06.2018</td>\n",
       "      <td>Finanzhilfen zugunsten Griechenlands:</td>\n",
       "      <td>Peter Boehringer (AfD):</td>\n",
       "      <td>(AfD):</td>\n",
       "      <td>Herr Präsident! Liebe Kolleginnen! Liebe Kolle...</td>\n",
       "    </tr>\n",
       "    <tr>\n",
       "      <th>2</th>\n",
       "      <td>29.06.2018</td>\n",
       "      <td>Finanzhilfen zugunsten Griechenlands:</td>\n",
       "      <td></td>\n",
       "      <td>N/A</td>\n",
       "      <td>Herr Präsident! Liebe Kolleginnen und Kollegen...</td>\n",
       "    </tr>\n",
       "    <tr>\n",
       "      <th>3</th>\n",
       "      <td>29.06.2018</td>\n",
       "      <td>Finanzhilfen zugunsten Griechenlands:</td>\n",
       "      <td>Christian Dürr (FDP):</td>\n",
       "      <td>(FDP):</td>\n",
       "      <td>Herr Präsident! Meine sehr verehrten Kolleginn...</td>\n",
       "    </tr>\n",
       "    <tr>\n",
       "      <th>4</th>\n",
       "      <td>29.06.2018</td>\n",
       "      <td>Finanzhilfen zugunsten Griechenlands:</td>\n",
       "      <td>Fabio De Masi (DIE LINKE):</td>\n",
       "      <td>(DIE LINKE):</td>\n",
       "      <td>Herr Präsident! Sehr geehrte Damen und Herren!...</td>\n",
       "    </tr>\n",
       "    <tr>\n",
       "      <th>...</th>\n",
       "      <td>...</td>\n",
       "      <td>...</td>\n",
       "      <td>...</td>\n",
       "      <td>...</td>\n",
       "      <td>...</td>\n",
       "    </tr>\n",
       "    <tr>\n",
       "      <th>22429</th>\n",
       "      <td>18.03.2022</td>\n",
       "      <td>Haltung der Bundesregierung zu den Vorwürfen g...</td>\n",
       "      <td>Julia Klöckner (CDU/CSU):</td>\n",
       "      <td>(CDU/CSU):</td>\n",
       "      <td>Frau Präsidentin! Liebe Kolleginnen und Kolleg...</td>\n",
       "    </tr>\n",
       "    <tr>\n",
       "      <th>22430</th>\n",
       "      <td>18.03.2022</td>\n",
       "      <td>Haltung der Bundesregierung zu den Vorwürfen g...</td>\n",
       "      <td>Dr. Till Steffen (BÜNDNIS 90/DIE GRÜNEN):</td>\n",
       "      <td>(BÜNDNIS 90/DIE GRÜNEN):</td>\n",
       "      <td>Frau Präsidentin! Meine Damen und Herren! Ich ...</td>\n",
       "    </tr>\n",
       "    <tr>\n",
       "      <th>22431</th>\n",
       "      <td>18.03.2022</td>\n",
       "      <td>Haltung der Bundesregierung zu den Vorwürfen g...</td>\n",
       "      <td>Sandra Bubendorfer-Licht (FDP):</td>\n",
       "      <td>(FDP):</td>\n",
       "      <td>Sehr geehrte Frau Präsidentin! Meine sehr geeh...</td>\n",
       "    </tr>\n",
       "    <tr>\n",
       "      <th>22432</th>\n",
       "      <td>18.03.2022</td>\n",
       "      <td>Haltung der Bundesregierung zu den Vorwürfen g...</td>\n",
       "      <td>Mario Czaja (CDU/CSU):</td>\n",
       "      <td>(CDU/CSU):</td>\n",
       "      <td>Sehr geehrte Frau Präsidentin! Liebe Kolleginn...</td>\n",
       "    </tr>\n",
       "    <tr>\n",
       "      <th>22433</th>\n",
       "      <td>18.03.2022</td>\n",
       "      <td>Haltung der Bundesregierung zu den Vorwürfen g...</td>\n",
       "      <td>Leni Breymaier (SPD):</td>\n",
       "      <td>(SPD):</td>\n",
       "      <td>Schönen Dank, Frau Präsidentin. – Liebe Kolleg...</td>\n",
       "    </tr>\n",
       "  </tbody>\n",
       "</table>\n",
       "<p>22434 rows × 5 columns</p>\n",
       "</div>"
      ],
      "text/plain": [
       "             date                                              thema  \\\n",
       "0      29.06.2018              Finanzhilfen zugunsten Griechenlands:   \n",
       "1      29.06.2018              Finanzhilfen zugunsten Griechenlands:   \n",
       "2      29.06.2018              Finanzhilfen zugunsten Griechenlands:   \n",
       "3      29.06.2018              Finanzhilfen zugunsten Griechenlands:   \n",
       "4      29.06.2018              Finanzhilfen zugunsten Griechenlands:   \n",
       "...           ...                                                ...   \n",
       "22429  18.03.2022  Haltung der Bundesregierung zu den Vorwürfen g...   \n",
       "22430  18.03.2022  Haltung der Bundesregierung zu den Vorwürfen g...   \n",
       "22431  18.03.2022  Haltung der Bundesregierung zu den Vorwürfen g...   \n",
       "22432  18.03.2022  Haltung der Bundesregierung zu den Vorwürfen g...   \n",
       "22433  18.03.2022  Haltung der Bundesregierung zu den Vorwürfen g...   \n",
       "\n",
       "                                         speaker                     party  \\\n",
       "0      Olaf Scholz, Bundesminister der Finanzen:                       N/A   \n",
       "1                        Peter Boehringer (AfD):                    (AfD):   \n",
       "2                                                                      N/A   \n",
       "3                          Christian Dürr (FDP):                    (FDP):   \n",
       "4                     Fabio De Masi (DIE LINKE):              (DIE LINKE):   \n",
       "...                                          ...                       ...   \n",
       "22429                  Julia Klöckner (CDU/CSU):                (CDU/CSU):   \n",
       "22430  Dr. Till Steffen (BÜNDNIS 90/DIE GRÜNEN):  (BÜNDNIS 90/DIE GRÜNEN):   \n",
       "22431            Sandra Bubendorfer-Licht (FDP):                    (FDP):   \n",
       "22432                     Mario Czaja (CDU/CSU):                (CDU/CSU):   \n",
       "22433                      Leni Breymaier (SPD):                    (SPD):   \n",
       "\n",
       "                                                  speech  \n",
       "0      Herr Präsident! Meine Damen und Herren! Griech...  \n",
       "1      Herr Präsident! Liebe Kolleginnen! Liebe Kolle...  \n",
       "2      Herr Präsident! Liebe Kolleginnen und Kollegen...  \n",
       "3      Herr Präsident! Meine sehr verehrten Kolleginn...  \n",
       "4      Herr Präsident! Sehr geehrte Damen und Herren!...  \n",
       "...                                                  ...  \n",
       "22429  Frau Präsidentin! Liebe Kolleginnen und Kolleg...  \n",
       "22430  Frau Präsidentin! Meine Damen und Herren! Ich ...  \n",
       "22431  Sehr geehrte Frau Präsidentin! Meine sehr geeh...  \n",
       "22432  Sehr geehrte Frau Präsidentin! Liebe Kolleginn...  \n",
       "22433  Schönen Dank, Frau Präsidentin. – Liebe Kolleg...  \n",
       "\n",
       "[22434 rows x 5 columns]"
      ]
     },
     "execution_count": 10,
     "metadata": {},
     "output_type": "execute_result"
    }
   ],
   "source": [
    "# assign directory\n",
    "directories = ['Plenarprotokolle_Wahlperiode_19', 'Plenarprotokolle_Wahlperiode_20']\n",
    " \n",
    "# iterate over files in\n",
    "# that directory\n",
    "\n",
    "dfs = []\n",
    "for directory in directories: \n",
    "    for filename in os.listdir(directory):\n",
    "        f = os.path.join(directory, filename)\n",
    "        # checking if it is a file\n",
    "        if os.path.isfile(f):\n",
    "            get_df = parse_data_to_df(f)\n",
    "            dfs.append(get_df)\n",
    "        \n",
    "final_df = pd.concat(dfs, ignore_index=True)\n",
    "\n",
    "final_df"
   ]
  },
  {
   "cell_type": "code",
   "execution_count": null,
   "metadata": {
    "scrolled": true,
    "pycharm": {
     "name": "#%%\n"
    }
   },
   "outputs": [],
   "source": [
    "#import sys\n",
    "#!/Library/Developer/CommandLineTools/usr/bin/python3 -m pip install textblob\n",
    "#!python3 -m textblob.download_corpora\n",
    "#from textblob_de import TextBlobDE as TextBlob\n",
    "#!pip install textblob_de\n",
    "#!pip install --user -U nltk\n",
    "#!/Library/Developer/CommandLineTools/usr/bin/python3 -m pip install spacy\n",
    "#!/Library/Developer/CommandLineTools/usr/bin/python3 -m pip install --upgrade pip setuptools wheel\n",
    "#!pip install spacy-sentiws\n",
    "#import spacy\n",
    "#!/Library/Developer/CommandLineTools/usr/bin/python3 -m spacy download de_core_news_sm"
   ]
  },
  {
   "cell_type": "markdown",
   "metadata": {
    "pycharm": {
     "name": "#%% md\n"
    }
   },
   "source": [
    "# TextBlob (German)"
   ]
  },
  {
   "cell_type": "code",
   "execution_count": null,
   "metadata": {
    "scrolled": true,
    "pycharm": {
     "name": "#%%\n"
    }
   },
   "outputs": [],
   "source": [
    "from textblob_de import TextBlobDE as TextBlob\n",
    "from pandarallel import pandarallel  # parallelization\n",
    "pandarallel.initialize()\n",
    "\n",
    "def get_polarity(input_speech):\n",
    "    speech = TextBlob(input_speech)\n",
    "    return speech.sentiment.polarity\n",
    "\n",
    "df[\"polarity_textblob\"] = df.parallel_apply(lambda row: get_polarity(row[\"speech\"]), axis=1)\n",
    "df"
   ]
  },
  {
   "cell_type": "markdown",
   "metadata": {
    "pycharm": {
     "name": "#%% md\n"
    }
   },
   "source": [
    "# VADER"
   ]
  },
  {
   "cell_type": "code",
   "execution_count": null,
   "metadata": {
    "scrolled": true,
    "pycharm": {
     "name": "#%%\n"
    }
   },
   "outputs": [],
   "source": [
    "#translate text to english because vader is only working properly in english language\n",
    "from deep_translator import GoogleTranslator\n",
    "\n",
    "#translate text to english language\n",
    "def translate_en(text):\n",
    "    translated = GoogleTranslator(source='auto', target='en').translate(text)\n",
    "    return translated\n",
    "\n",
    "\n",
    "def translate_speech(text):\n",
    "    #split text after 4999 characaters, translate both path separatly and join them afterwards\n",
    "    if len(text) > 5000: \n",
    "        cut_text= text[:4999]\n",
    "        for idx, c in enumerate(reversed(cut_text)):\n",
    "            #print(idx, c)\n",
    "            if c == \" \":\n",
    "                print(idx, c)\n",
    "                first_part = text[:4999 - idx]\n",
    "                first_part_trans = translate_en(first_part)\n",
    "                second_part = text[len(first_part):]\n",
    "                second_part_trans = translate_en(second_part)\n",
    "                combined_text = first_part_trans + \" \" + second_part_trans\n",
    "                print(combined_text)\n",
    "                return combined_text\n",
    "    return translate_en(text)\n",
    "\n",
    "# PROBLEM: translation is limited TO 5000 characters!!!\n",
    "df[\"translated_speech\"] = df.apply(lambda row: translate_speech(row[\"speech\"]), axis=1)\n",
    "df"
   ]
  },
  {
   "cell_type": "code",
   "execution_count": null,
   "metadata": {
    "scrolled": false,
    "pycharm": {
     "name": "#%%\n"
    }
   },
   "outputs": [],
   "source": [
    "from vaderSentiment.vaderSentiment import SentimentIntensityAnalyzer\n",
    "\n",
    "def get_polarity_vader(input_speech):\n",
    "    sid_obj = SentimentIntensityAnalyzer()\n",
    "    sentiment_dict = sid_obj.polarity_scores(input_speech)\n",
    "    return sentiment_dict[\"compound\"]\n",
    "    \n",
    "df[\"polarity_vader\"] = df.apply(lambda row: get_polarity_vader(row[\"translated_speech\"][:4999]), axis=1)\n",
    "df"
   ]
  },
  {
   "cell_type": "code",
   "execution_count": null,
   "metadata": {
    "pycharm": {
     "name": "#%%\n"
    }
   },
   "outputs": [],
   "source": []
  },
  {
   "cell_type": "code",
   "execution_count": null,
   "metadata": {
    "pycharm": {
     "name": "#%%\n"
    }
   },
   "outputs": [],
   "source": []
  }
 ],
 "metadata": {
  "kernelspec": {
   "display_name": "Python 3 (ipykernel)",
   "language": "python",
   "name": "python3"
  },
  "language_info": {
   "codemirror_mode": {
    "name": "ipython",
    "version": 3
   },
   "file_extension": ".py",
   "mimetype": "text/x-python",
   "name": "python",
   "nbconvert_exporter": "python",
   "pygments_lexer": "ipython3",
   "version": "3.9.8"
  },
  "vscode": {
   "interpreter": {
    "hash": "1e18e666356f984945bbc820f2d17fc4b2e8e13812f083f340becc87c4312736"
   }
  }
 },
 "nbformat": 4,
 "nbformat_minor": 2
}